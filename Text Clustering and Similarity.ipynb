{
 "cells": [
  {
   "cell_type": "code",
   "execution_count": 55,
   "metadata": {
    "collapsed": false
   },
   "outputs": [],
   "source": [
    "import string\n",
    "import pandas as pd\n",
    "import numpy as np\n",
    "import requests\n",
    "import re\n",
    "from bs4 import BeautifulSoup\n",
    "from nltk.tokenize import StanfordTokenizer\n",
    "from nltk.stem.wordnet import WordNetLemmatizer\n",
    "from nltk.corpus import stopwords\n",
    "\n",
    "import matplotlib.pyplot as plt\n",
    "%matplotlib inline"
   ]
  },
  {
   "cell_type": "code",
   "execution_count": 2,
   "metadata": {
    "collapsed": false
   },
   "outputs": [
    {
     "data": {
      "text/html": [
       "<div>\n",
       "<table border=\"1\" class=\"dataframe\">\n",
       "  <thead>\n",
       "    <tr style=\"text-align: right;\">\n",
       "      <th></th>\n",
       "      <th>Speaker</th>\n",
       "      <th>Unnamed: 1</th>\n",
       "      <th>Gender</th>\n",
       "      <th>#Lines</th>\n",
       "      <th>Play</th>\n",
       "      <th>TopVillain</th>\n",
       "      <th>Fools</th>\n",
       "    </tr>\n",
       "  </thead>\n",
       "  <tbody>\n",
       "    <tr>\n",
       "      <th>0</th>\n",
       "      <td>Hamlet</td>\n",
       "      <td>NaN</td>\n",
       "      <td>Male</td>\n",
       "      <td>1506</td>\n",
       "      <td>Hamlet</td>\n",
       "      <td>NaN</td>\n",
       "      <td>NaN</td>\n",
       "    </tr>\n",
       "    <tr>\n",
       "      <th>1</th>\n",
       "      <td>Iago</td>\n",
       "      <td>NaN</td>\n",
       "      <td>Male</td>\n",
       "      <td>1088</td>\n",
       "      <td>Othello</td>\n",
       "      <td>yes</td>\n",
       "      <td>NaN</td>\n",
       "    </tr>\n",
       "    <tr>\n",
       "      <th>2</th>\n",
       "      <td>King Henry</td>\n",
       "      <td>NaN</td>\n",
       "      <td>Male</td>\n",
       "      <td>1031</td>\n",
       "      <td>Henry V</td>\n",
       "      <td>NaN</td>\n",
       "      <td>NaN</td>\n",
       "    </tr>\n",
       "    <tr>\n",
       "      <th>3</th>\n",
       "      <td>Othello</td>\n",
       "      <td>NaN</td>\n",
       "      <td>Male</td>\n",
       "      <td>880</td>\n",
       "      <td>Othello</td>\n",
       "      <td>NaN</td>\n",
       "      <td>NaN</td>\n",
       "    </tr>\n",
       "    <tr>\n",
       "      <th>4</th>\n",
       "      <td>Timon</td>\n",
       "      <td>NaN</td>\n",
       "      <td>Male</td>\n",
       "      <td>850</td>\n",
       "      <td>Timon of Athens</td>\n",
       "      <td>NaN</td>\n",
       "      <td>NaN</td>\n",
       "    </tr>\n",
       "  </tbody>\n",
       "</table>\n",
       "</div>"
      ],
      "text/plain": [
       "      Speaker  Unnamed: 1 Gender  #Lines             Play TopVillain Fools\n",
       "0      Hamlet         NaN   Male    1506           Hamlet        NaN   NaN\n",
       "1        Iago         NaN   Male    1088          Othello        yes   NaN\n",
       "2  King Henry         NaN   Male    1031          Henry V        NaN   NaN\n",
       "3     Othello         NaN   Male     880          Othello        NaN   NaN\n",
       "4       Timon         NaN   Male     850  Timon of Athens        NaN   NaN"
      ]
     },
     "execution_count": 2,
     "metadata": {},
     "output_type": "execute_result"
    }
   ],
   "source": [
    "## read in the character list\n",
    "master = pd.read_csv('Shakespeare_characters.txt', delimiter='\\t', encoding='ISO-8859-1')\n",
    "master.head()"
   ]
  },
  {
   "cell_type": "code",
   "execution_count": 3,
   "metadata": {
    "collapsed": false
   },
   "outputs": [
    {
     "data": {
      "text/html": [
       "<div>\n",
       "<table border=\"1\" class=\"dataframe\">\n",
       "  <thead>\n",
       "    <tr style=\"text-align: right;\">\n",
       "      <th></th>\n",
       "      <th>Speaker</th>\n",
       "      <th>Unnamed: 1</th>\n",
       "      <th>Gender</th>\n",
       "      <th>#Lines</th>\n",
       "      <th>Play</th>\n",
       "      <th>TopVillain</th>\n",
       "      <th>Fools</th>\n",
       "    </tr>\n",
       "  </thead>\n",
       "  <tbody>\n",
       "    <tr>\n",
       "      <th>1528</th>\n",
       "      <td>First And Second Murderer</td>\n",
       "      <td>NaN</td>\n",
       "      <td>Male</td>\n",
       "      <td>1</td>\n",
       "      <td>Richard III</td>\n",
       "      <td>NaN</td>\n",
       "      <td>NaN</td>\n",
       "    </tr>\n",
       "    <tr>\n",
       "      <th>1529</th>\n",
       "      <td>All</td>\n",
       "      <td>NaN</td>\n",
       "      <td>Male</td>\n",
       "      <td>1</td>\n",
       "      <td>Richard III</td>\n",
       "      <td>NaN</td>\n",
       "      <td>NaN</td>\n",
       "    </tr>\n",
       "    <tr>\n",
       "      <th>1530</th>\n",
       "      <td>Ghost Of Grey</td>\n",
       "      <td>NaN</td>\n",
       "      <td>Male</td>\n",
       "      <td>1</td>\n",
       "      <td>Richard III</td>\n",
       "      <td>NaN</td>\n",
       "      <td>NaN</td>\n",
       "    </tr>\n",
       "    <tr>\n",
       "      <th>1531</th>\n",
       "      <td>Herbert</td>\n",
       "      <td>NaN</td>\n",
       "      <td>Male</td>\n",
       "      <td>1</td>\n",
       "      <td>Richard III</td>\n",
       "      <td>NaN</td>\n",
       "      <td>NaN</td>\n",
       "    </tr>\n",
       "    <tr>\n",
       "      <th>1532</th>\n",
       "      <td>Queen Elizabeth And Duchess Of York</td>\n",
       "      <td>NaN</td>\n",
       "      <td>Female</td>\n",
       "      <td>1</td>\n",
       "      <td>Richard III</td>\n",
       "      <td>NaN</td>\n",
       "      <td>NaN</td>\n",
       "    </tr>\n",
       "  </tbody>\n",
       "</table>\n",
       "</div>"
      ],
      "text/plain": [
       "                                  Speaker  Unnamed: 1  Gender  #Lines  \\\n",
       "1528            First And Second Murderer         NaN    Male       1   \n",
       "1529                                  All         NaN    Male       1   \n",
       "1530                        Ghost Of Grey         NaN    Male       1   \n",
       "1531                              Herbert         NaN    Male       1   \n",
       "1532  Queen Elizabeth And Duchess Of York         NaN  Female       1   \n",
       "\n",
       "             Play TopVillain Fools  \n",
       "1528  Richard III        NaN   NaN  \n",
       "1529  Richard III        NaN   NaN  \n",
       "1530  Richard III        NaN   NaN  \n",
       "1531  Richard III        NaN   NaN  \n",
       "1532  Richard III        NaN   NaN  "
      ]
     },
     "execution_count": 3,
     "metadata": {},
     "output_type": "execute_result"
    }
   ],
   "source": [
    "master.tail()"
   ]
  },
  {
   "cell_type": "code",
   "execution_count": 4,
   "metadata": {
    "collapsed": false
   },
   "outputs": [],
   "source": [
    "home_url = 'http://shakespeare.mit.edu/index.html'\n",
    "request = requests.get(home_url).content\n",
    "main_soup = BeautifulSoup(request, 'html.parser')"
   ]
  },
  {
   "cell_type": "code",
   "execution_count": 5,
   "metadata": {
    "collapsed": true
   },
   "outputs": [],
   "source": [
    "play_hrefs = [a['href'] for a in main_soup.findAll('a', href=True) if 'index.html' in a['href']]"
   ]
  },
  {
   "cell_type": "code",
   "execution_count": 6,
   "metadata": {
    "collapsed": false
   },
   "outputs": [],
   "source": [
    "main_url = 'http://shakespeare.mit.edu/'"
   ]
  },
  {
   "cell_type": "code",
   "execution_count": 17,
   "metadata": {
    "collapsed": false
   },
   "outputs": [],
   "source": [
    "## still need to get rid of the stage direction\n",
    "def get_char_text(href, play):\n",
    "    \n",
    "    new_url = 'http://shakespeare.mit.edu/' + href\n",
    "    request = requests.get(new_url).content\n",
    "    new_soup = BeautifulSoup(request, 'html.parser')\n",
    "    \n",
    "    act, scene = re.compile('\\.(\\d+)\\.(\\d+)\\.html').findall(href)[0]\n",
    "\n",
    "    characters = [b.text for b in new_soup.findAll('b')]\n",
    "    quotes = [quote.text.split('\\n') for quote in new_soup.findAll('blockquote')]\n",
    "    quotes = quotes[1:]\n",
    "    \n",
    "    character_text = [i for i in zip(characters, quotes)]    \n",
    "    \n",
    "    dict_list = []\n",
    "    for i in character_text:\n",
    "        character = i[0]\n",
    "        the_text = i[1]\n",
    "        for j in the_text:\n",
    "            dict_list.append({'play': play, 'act': act, 'scene': scene, \n",
    "                              'character': character, 'text': j})\n",
    "    return(dict_list)"
   ]
  },
  {
   "cell_type": "code",
   "execution_count": 21,
   "metadata": {
    "collapsed": false
   },
   "outputs": [
    {
     "name": "stdout",
     "output_type": "stream",
     "text": [
      "allswell\n",
      "http://shakespeare.mit.edu/allswell/index.html\n",
      "asyoulikeit\n",
      "http://shakespeare.mit.edu/asyoulikeit/index.html\n",
      "comedy_errors\n",
      "http://shakespeare.mit.edu/comedy_errors/index.html\n",
      "cymbeline\n",
      "http://shakespeare.mit.edu/cymbeline/index.html\n",
      "lll\n",
      "http://shakespeare.mit.edu/lll/index.html\n",
      "measure\n",
      "http://shakespeare.mit.edu/measure/index.html\n",
      "merry_wives\n",
      "http://shakespeare.mit.edu/merry_wives/index.html\n",
      "merchant\n",
      "http://shakespeare.mit.edu/merchant/index.html\n",
      "midsummer\n",
      "http://shakespeare.mit.edu/midsummer/index.html\n",
      "much_ado\n",
      "http://shakespeare.mit.edu/much_ado/index.html\n",
      "pericles\n",
      "http://shakespeare.mit.edu/pericles/index.html\n",
      "taming_shrew\n",
      "http://shakespeare.mit.edu/taming_shrew/index.html\n",
      "tempest\n",
      "http://shakespeare.mit.edu/tempest/index.html\n",
      "troilus_cressida\n",
      "http://shakespeare.mit.edu/troilus_cressida/index.html\n",
      "twelfth_night\n",
      "http://shakespeare.mit.edu/twelfth_night/index.html\n",
      "two_gentlemen\n",
      "http://shakespeare.mit.edu/two_gentlemen/index.html\n",
      "winters_tale\n",
      "http://shakespeare.mit.edu/winters_tale/index.html\n",
      "1henryiv\n",
      "http://shakespeare.mit.edu/1henryiv/index.html\n",
      "2henryiv\n",
      "http://shakespeare.mit.edu/2henryiv/index.html\n",
      "henryv\n",
      "http://shakespeare.mit.edu/henryv/index.html\n",
      "1henryvi\n",
      "http://shakespeare.mit.edu/1henryvi/index.html\n",
      "2henryvi\n",
      "http://shakespeare.mit.edu/2henryvi/index.html\n",
      "3henryvi\n",
      "http://shakespeare.mit.edu/3henryvi/index.html\n",
      "henryviii\n",
      "http://shakespeare.mit.edu/henryviii/index.html\n",
      "john\n",
      "http://shakespeare.mit.edu/john/index.html\n",
      "richardii\n",
      "http://shakespeare.mit.edu/richardii/index.html\n",
      "richardiii\n",
      "http://shakespeare.mit.edu/richardiii/index.html\n",
      "cleopatra\n",
      "http://shakespeare.mit.edu/cleopatra/index.html\n",
      "coriolanus\n",
      "http://shakespeare.mit.edu/coriolanus/index.html\n",
      "hamlet\n",
      "http://shakespeare.mit.edu/hamlet/index.html\n",
      "julius_caesar\n",
      "http://shakespeare.mit.edu/julius_caesar/index.html\n",
      "lear\n",
      "http://shakespeare.mit.edu/lear/index.html\n",
      "macbeth\n",
      "http://shakespeare.mit.edu/macbeth/index.html\n",
      "othello\n",
      "http://shakespeare.mit.edu/othello/index.html\n",
      "romeo_juliet\n",
      "http://shakespeare.mit.edu/romeo_juliet/index.html\n",
      "timon\n",
      "http://shakespeare.mit.edu/timon/index.html\n",
      "titus\n",
      "http://shakespeare.mit.edu/titus/index.html\n"
     ]
    }
   ],
   "source": [
    "all_dicts = []\n",
    "for play_href in play_hrefs:\n",
    "    play = re.compile('(\\w+)\\/index.html').findall(play_href)[0]\n",
    "    print(play)\n",
    "    print(main_url + play_href)\n",
    "    request = requests.get(main_url + play_href).content\n",
    "    the_soup = BeautifulSoup(request, 'html.parser')\n",
    "    inside_hrefs = [play + '/' + a['href'] for a in the_soup.findAll('a', href=True) if play in a['href']]\n",
    "    temp_dicts = []\n",
    "    for href in inside_hrefs:\n",
    "        dict_list = get_char_text(href, play)\n",
    "        for i in dict_list:\n",
    "            temp_dicts.append(i)\n",
    "    for the_dict in temp_dicts:\n",
    "        all_dicts.append(the_dict)"
   ]
  },
  {
   "cell_type": "code",
   "execution_count": 22,
   "metadata": {
    "collapsed": false,
    "scrolled": false
   },
   "outputs": [
    {
     "data": {
      "text/html": [
       "<div>\n",
       "<table border=\"1\" class=\"dataframe\">\n",
       "  <thead>\n",
       "    <tr style=\"text-align: right;\">\n",
       "      <th></th>\n",
       "      <th>play</th>\n",
       "      <th>act</th>\n",
       "      <th>scene</th>\n",
       "      <th>character</th>\n",
       "      <th>text</th>\n",
       "    </tr>\n",
       "  </thead>\n",
       "  <tbody>\n",
       "    <tr>\n",
       "      <th>81578</th>\n",
       "      <td>2henryiv</td>\n",
       "      <td>0</td>\n",
       "      <td>0</td>\n",
       "      <td>RUMOUR</td>\n",
       "      <td>Enter RUMOUR, painted full of tongues</td>\n",
       "    </tr>\n",
       "    <tr>\n",
       "      <th>49051</th>\n",
       "      <td>taming_shrew</td>\n",
       "      <td>0</td>\n",
       "      <td>1</td>\n",
       "      <td>SLY</td>\n",
       "      <td>I'll pheeze you, in faith.</td>\n",
       "    </tr>\n",
       "    <tr>\n",
       "      <th>49054</th>\n",
       "      <td>taming_shrew</td>\n",
       "      <td>0</td>\n",
       "      <td>1</td>\n",
       "      <td>Hostess</td>\n",
       "      <td>A pair of stocks, you rogue!</td>\n",
       "    </tr>\n",
       "    <tr>\n",
       "      <th>49057</th>\n",
       "      <td>taming_shrew</td>\n",
       "      <td>0</td>\n",
       "      <td>1</td>\n",
       "      <td>SLY</td>\n",
       "      <td>Ye are a baggage: the Slys are no rogues; look in</td>\n",
       "    </tr>\n",
       "    <tr>\n",
       "      <th>49058</th>\n",
       "      <td>taming_shrew</td>\n",
       "      <td>0</td>\n",
       "      <td>1</td>\n",
       "      <td>SLY</td>\n",
       "      <td>the chronicles; we came in with Richard Conque...</td>\n",
       "    </tr>\n",
       "  </tbody>\n",
       "</table>\n",
       "</div>"
      ],
      "text/plain": [
       "               play act scene character  \\\n",
       "81578      2henryiv   0     0    RUMOUR   \n",
       "49051  taming_shrew   0     1       SLY   \n",
       "49054  taming_shrew   0     1   Hostess   \n",
       "49057  taming_shrew   0     1       SLY   \n",
       "49058  taming_shrew   0     1       SLY   \n",
       "\n",
       "                                                    text  \n",
       "81578              Enter RUMOUR, painted full of tongues  \n",
       "49051                         I'll pheeze you, in faith.  \n",
       "49054                       A pair of stocks, you rogue!  \n",
       "49057  Ye are a baggage: the Slys are no rogues; look in  \n",
       "49058  the chronicles; we came in with Richard Conque...  "
      ]
     },
     "execution_count": 22,
     "metadata": {},
     "output_type": "execute_result"
    }
   ],
   "source": [
    "text_df = pd.DataFrame(all_dicts)\n",
    "blank_filter = text_df[\"text\"] != \"\"\n",
    "text_df = text_df[blank_filter]\n",
    "text_df = text_df[['play', 'act','scene', 'character', 'text']]\n",
    "text_df = text_df.sort_values(by=['act', 'scene'])\n",
    "text_df.head()"
   ]
  },
  {
   "cell_type": "code",
   "execution_count": 23,
   "metadata": {
    "collapsed": false
   },
   "outputs": [
    {
     "data": {
      "text/html": [
       "<div>\n",
       "<table border=\"1\" class=\"dataframe\">\n",
       "  <thead>\n",
       "    <tr style=\"text-align: right;\">\n",
       "      <th></th>\n",
       "      <th>play</th>\n",
       "      <th>act</th>\n",
       "      <th>scene</th>\n",
       "      <th>character</th>\n",
       "      <th>text</th>\n",
       "    </tr>\n",
       "  </thead>\n",
       "  <tbody>\n",
       "    <tr>\n",
       "      <th>63197</th>\n",
       "      <td>troilus_cressida</td>\n",
       "      <td>5</td>\n",
       "      <td>9</td>\n",
       "      <td>AGAMEMNON</td>\n",
       "      <td>March patiently along: let one be sent</td>\n",
       "    </tr>\n",
       "    <tr>\n",
       "      <th>63198</th>\n",
       "      <td>troilus_cressida</td>\n",
       "      <td>5</td>\n",
       "      <td>9</td>\n",
       "      <td>AGAMEMNON</td>\n",
       "      <td>To pray Achilles see us at our tent.</td>\n",
       "    </tr>\n",
       "    <tr>\n",
       "      <th>63199</th>\n",
       "      <td>troilus_cressida</td>\n",
       "      <td>5</td>\n",
       "      <td>9</td>\n",
       "      <td>AGAMEMNON</td>\n",
       "      <td>If in his death the gods have us befriended,</td>\n",
       "    </tr>\n",
       "    <tr>\n",
       "      <th>63200</th>\n",
       "      <td>troilus_cressida</td>\n",
       "      <td>5</td>\n",
       "      <td>9</td>\n",
       "      <td>AGAMEMNON</td>\n",
       "      <td>Great Troy is ours, and our sharp wars are ended.</td>\n",
       "    </tr>\n",
       "    <tr>\n",
       "      <th>63201</th>\n",
       "      <td>troilus_cressida</td>\n",
       "      <td>5</td>\n",
       "      <td>9</td>\n",
       "      <td>AGAMEMNON</td>\n",
       "      <td>Exeunt, marching</td>\n",
       "    </tr>\n",
       "  </tbody>\n",
       "</table>\n",
       "</div>"
      ],
      "text/plain": [
       "                   play act scene  character  \\\n",
       "63197  troilus_cressida   5     9  AGAMEMNON   \n",
       "63198  troilus_cressida   5     9  AGAMEMNON   \n",
       "63199  troilus_cressida   5     9  AGAMEMNON   \n",
       "63200  troilus_cressida   5     9  AGAMEMNON   \n",
       "63201  troilus_cressida   5     9  AGAMEMNON   \n",
       "\n",
       "                                                    text  \n",
       "63197             March patiently along: let one be sent  \n",
       "63198               To pray Achilles see us at our tent.  \n",
       "63199       If in his death the gods have us befriended,  \n",
       "63200  Great Troy is ours, and our sharp wars are ended.  \n",
       "63201                                   Exeunt, marching  "
      ]
     },
     "execution_count": 23,
     "metadata": {},
     "output_type": "execute_result"
    }
   ],
   "source": [
    "text_df.tail()"
   ]
  },
  {
   "cell_type": "code",
   "execution_count": 24,
   "metadata": {
    "collapsed": false
   },
   "outputs": [
    {
     "data": {
      "text/plain": [
       "(113332, 5)"
      ]
     },
     "execution_count": 24,
     "metadata": {},
     "output_type": "execute_result"
    }
   ],
   "source": [
    "text_df.shape"
   ]
  },
  {
   "cell_type": "code",
   "execution_count": 25,
   "metadata": {
    "collapsed": false
   },
   "outputs": [],
   "source": [
    "text_df['character'] = text_df.character.apply(lambda x: str.lower(x))\n",
    "text_df['text'] = text_df.text.apply(lambda x: str.lower(x))"
   ]
  },
  {
   "cell_type": "code",
   "execution_count": 26,
   "metadata": {
    "collapsed": false
   },
   "outputs": [
    {
     "data": {
      "text/html": [
       "<div>\n",
       "<table border=\"1\" class=\"dataframe\">\n",
       "  <thead>\n",
       "    <tr style=\"text-align: right;\">\n",
       "      <th></th>\n",
       "      <th>play</th>\n",
       "      <th>act</th>\n",
       "      <th>scene</th>\n",
       "      <th>character</th>\n",
       "      <th>text</th>\n",
       "    </tr>\n",
       "  </thead>\n",
       "  <tbody>\n",
       "    <tr>\n",
       "      <th>81578</th>\n",
       "      <td>2henryiv</td>\n",
       "      <td>0</td>\n",
       "      <td>0</td>\n",
       "      <td>rumour</td>\n",
       "      <td>enter rumour, painted full of tongues</td>\n",
       "    </tr>\n",
       "    <tr>\n",
       "      <th>49051</th>\n",
       "      <td>taming_shrew</td>\n",
       "      <td>0</td>\n",
       "      <td>1</td>\n",
       "      <td>sly</td>\n",
       "      <td>i'll pheeze you, in faith.</td>\n",
       "    </tr>\n",
       "    <tr>\n",
       "      <th>49054</th>\n",
       "      <td>taming_shrew</td>\n",
       "      <td>0</td>\n",
       "      <td>1</td>\n",
       "      <td>hostess</td>\n",
       "      <td>a pair of stocks, you rogue!</td>\n",
       "    </tr>\n",
       "    <tr>\n",
       "      <th>49057</th>\n",
       "      <td>taming_shrew</td>\n",
       "      <td>0</td>\n",
       "      <td>1</td>\n",
       "      <td>sly</td>\n",
       "      <td>ye are a baggage: the slys are no rogues; look in</td>\n",
       "    </tr>\n",
       "    <tr>\n",
       "      <th>49058</th>\n",
       "      <td>taming_shrew</td>\n",
       "      <td>0</td>\n",
       "      <td>1</td>\n",
       "      <td>sly</td>\n",
       "      <td>the chronicles; we came in with richard conque...</td>\n",
       "    </tr>\n",
       "  </tbody>\n",
       "</table>\n",
       "</div>"
      ],
      "text/plain": [
       "               play act scene character  \\\n",
       "81578      2henryiv   0     0    rumour   \n",
       "49051  taming_shrew   0     1       sly   \n",
       "49054  taming_shrew   0     1   hostess   \n",
       "49057  taming_shrew   0     1       sly   \n",
       "49058  taming_shrew   0     1       sly   \n",
       "\n",
       "                                                    text  \n",
       "81578              enter rumour, painted full of tongues  \n",
       "49051                         i'll pheeze you, in faith.  \n",
       "49054                       a pair of stocks, you rogue!  \n",
       "49057  ye are a baggage: the slys are no rogues; look in  \n",
       "49058  the chronicles; we came in with richard conque...  "
      ]
     },
     "execution_count": 26,
     "metadata": {},
     "output_type": "execute_result"
    }
   ],
   "source": [
    "text_df.head()"
   ]
  },
  {
   "cell_type": "code",
   "execution_count": 30,
   "metadata": {
    "collapsed": false
   },
   "outputs": [],
   "source": [
    "pd.to_pickle(text_df, 'text_df.pkl')"
   ]
  },
  {
   "cell_type": "code",
   "execution_count": 31,
   "metadata": {
    "collapsed": false
   },
   "outputs": [],
   "source": [
    "all_characters = list(set(text_df.character.values))"
   ]
  },
  {
   "cell_type": "code",
   "execution_count": 66,
   "metadata": {
    "collapsed": true
   },
   "outputs": [],
   "source": [
    "def get_all_text(character, scraped_df):\n",
    "    character = scraped_df[scraped_df.character == character]\n",
    "    character_text = character.text.values\n",
    "    exclude_text = set(string.punctuation)\n",
    "    character_text = [''.join(ch for ch in i if ch not in exclude) for i in character_text] ## removes punctuation\n",
    "    wnl = WordNetLemmatizer()\n",
    "    character_text = [wnl.lemmatize(j) for i in character_text for j in i.split()]\n",
    "    character_text = [word for word in character_text if word not in stopwords.words('english')]\n",
    "    return(character_text)"
   ]
  },
  {
   "cell_type": "code",
   "execution_count": 69,
   "metadata": {
    "collapsed": true
   },
   "outputs": [],
   "source": [
    "prepped_dict = {}\n",
    "for character in all_characters:\n",
    "    prepped_dict[character] = get_all_text(character, text_df)"
   ]
  },
  {
   "cell_type": "code",
   "execution_count": null,
   "metadata": {
    "collapsed": true
   },
   "outputs": [],
   "source": []
  }
 ],
 "metadata": {
  "kernelspec": {
   "display_name": "Python 3",
   "language": "python",
   "name": "python3"
  },
  "language_info": {
   "codemirror_mode": {
    "name": "ipython",
    "version": 3
   },
   "file_extension": ".py",
   "mimetype": "text/x-python",
   "name": "python",
   "nbconvert_exporter": "python",
   "pygments_lexer": "ipython3",
   "version": "3.5.2"
  }
 },
 "nbformat": 4,
 "nbformat_minor": 0
}
